{
 "cells": [
  {
   "cell_type": "code",
   "execution_count": 1,
   "id": "b2282143-bf53-46ca-a245-4dd44bbaaabf",
   "metadata": {},
   "outputs": [],
   "source": [
    "import pandas as pd \n",
    "import numpy as np\n",
    "import seaborn as sns\n",
    "import matplotlib.pyplot as plt\n",
    "import mysql.connector\n",
    "from sklearn.cluster import KMeans\n",
    "from sklearn.preprocessing import StandardScaler"
   ]
  },
  {
   "cell_type": "code",
   "execution_count": 2,
   "id": "7b119690-3a05-4728-a2a6-cd094fb1708f",
   "metadata": {},
   "outputs": [],
   "source": [
    "# Loading the dataset\n",
    "df = pd.read_excel('Online Retail.xlsx')"
   ]
  },
  {
   "cell_type": "code",
   "execution_count": 3,
   "id": "e9830910-0f75-4190-a926-e75355f1661c",
   "metadata": {},
   "outputs": [
    {
     "data": {
      "text/html": [
       "<div>\n",
       "<style scoped>\n",
       "    .dataframe tbody tr th:only-of-type {\n",
       "        vertical-align: middle;\n",
       "    }\n",
       "\n",
       "    .dataframe tbody tr th {\n",
       "        vertical-align: top;\n",
       "    }\n",
       "\n",
       "    .dataframe thead th {\n",
       "        text-align: right;\n",
       "    }\n",
       "</style>\n",
       "<table border=\"1\" class=\"dataframe\">\n",
       "  <thead>\n",
       "    <tr style=\"text-align: right;\">\n",
       "      <th></th>\n",
       "      <th>InvoiceNo</th>\n",
       "      <th>StockCode</th>\n",
       "      <th>Description</th>\n",
       "      <th>Quantity</th>\n",
       "      <th>InvoiceDate</th>\n",
       "      <th>UnitPrice</th>\n",
       "      <th>CustomerID</th>\n",
       "      <th>Country</th>\n",
       "    </tr>\n",
       "  </thead>\n",
       "  <tbody>\n",
       "    <tr>\n",
       "      <th>0</th>\n",
       "      <td>536365</td>\n",
       "      <td>85123A</td>\n",
       "      <td>WHITE HANGING HEART T-LIGHT HOLDER</td>\n",
       "      <td>6</td>\n",
       "      <td>2010-12-01 08:26:00</td>\n",
       "      <td>2.55</td>\n",
       "      <td>17850.0</td>\n",
       "      <td>United Kingdom</td>\n",
       "    </tr>\n",
       "    <tr>\n",
       "      <th>1</th>\n",
       "      <td>536365</td>\n",
       "      <td>71053</td>\n",
       "      <td>WHITE METAL LANTERN</td>\n",
       "      <td>6</td>\n",
       "      <td>2010-12-01 08:26:00</td>\n",
       "      <td>3.39</td>\n",
       "      <td>17850.0</td>\n",
       "      <td>United Kingdom</td>\n",
       "    </tr>\n",
       "    <tr>\n",
       "      <th>2</th>\n",
       "      <td>536365</td>\n",
       "      <td>84406B</td>\n",
       "      <td>CREAM CUPID HEARTS COAT HANGER</td>\n",
       "      <td>8</td>\n",
       "      <td>2010-12-01 08:26:00</td>\n",
       "      <td>2.75</td>\n",
       "      <td>17850.0</td>\n",
       "      <td>United Kingdom</td>\n",
       "    </tr>\n",
       "    <tr>\n",
       "      <th>3</th>\n",
       "      <td>536365</td>\n",
       "      <td>84029G</td>\n",
       "      <td>KNITTED UNION FLAG HOT WATER BOTTLE</td>\n",
       "      <td>6</td>\n",
       "      <td>2010-12-01 08:26:00</td>\n",
       "      <td>3.39</td>\n",
       "      <td>17850.0</td>\n",
       "      <td>United Kingdom</td>\n",
       "    </tr>\n",
       "    <tr>\n",
       "      <th>4</th>\n",
       "      <td>536365</td>\n",
       "      <td>84029E</td>\n",
       "      <td>RED WOOLLY HOTTIE WHITE HEART.</td>\n",
       "      <td>6</td>\n",
       "      <td>2010-12-01 08:26:00</td>\n",
       "      <td>3.39</td>\n",
       "      <td>17850.0</td>\n",
       "      <td>United Kingdom</td>\n",
       "    </tr>\n",
       "  </tbody>\n",
       "</table>\n",
       "</div>"
      ],
      "text/plain": [
       "  InvoiceNo StockCode                          Description  Quantity  \\\n",
       "0    536365    85123A   WHITE HANGING HEART T-LIGHT HOLDER         6   \n",
       "1    536365     71053                  WHITE METAL LANTERN         6   \n",
       "2    536365    84406B       CREAM CUPID HEARTS COAT HANGER         8   \n",
       "3    536365    84029G  KNITTED UNION FLAG HOT WATER BOTTLE         6   \n",
       "4    536365    84029E       RED WOOLLY HOTTIE WHITE HEART.         6   \n",
       "\n",
       "          InvoiceDate  UnitPrice  CustomerID         Country  \n",
       "0 2010-12-01 08:26:00       2.55     17850.0  United Kingdom  \n",
       "1 2010-12-01 08:26:00       3.39     17850.0  United Kingdom  \n",
       "2 2010-12-01 08:26:00       2.75     17850.0  United Kingdom  \n",
       "3 2010-12-01 08:26:00       3.39     17850.0  United Kingdom  \n",
       "4 2010-12-01 08:26:00       3.39     17850.0  United Kingdom  "
      ]
     },
     "execution_count": 3,
     "metadata": {},
     "output_type": "execute_result"
    }
   ],
   "source": [
    "# Display first 5 rows\n",
    "df.head()"
   ]
  },
  {
   "cell_type": "code",
   "execution_count": 4,
   "id": "54899d3c-e3eb-4fde-bc74-de8ebdfd3f1b",
   "metadata": {},
   "outputs": [
    {
     "data": {
      "text/html": [
       "<div>\n",
       "<style scoped>\n",
       "    .dataframe tbody tr th:only-of-type {\n",
       "        vertical-align: middle;\n",
       "    }\n",
       "\n",
       "    .dataframe tbody tr th {\n",
       "        vertical-align: top;\n",
       "    }\n",
       "\n",
       "    .dataframe thead th {\n",
       "        text-align: right;\n",
       "    }\n",
       "</style>\n",
       "<table border=\"1\" class=\"dataframe\">\n",
       "  <thead>\n",
       "    <tr style=\"text-align: right;\">\n",
       "      <th></th>\n",
       "      <th>InvoiceNo</th>\n",
       "      <th>StockCode</th>\n",
       "      <th>Description</th>\n",
       "      <th>Quantity</th>\n",
       "      <th>InvoiceDate</th>\n",
       "      <th>UnitPrice</th>\n",
       "      <th>CustomerID</th>\n",
       "      <th>Country</th>\n",
       "    </tr>\n",
       "  </thead>\n",
       "  <tbody>\n",
       "    <tr>\n",
       "      <th>541904</th>\n",
       "      <td>581587</td>\n",
       "      <td>22613</td>\n",
       "      <td>PACK OF 20 SPACEBOY NAPKINS</td>\n",
       "      <td>12</td>\n",
       "      <td>2011-12-09 12:50:00</td>\n",
       "      <td>0.85</td>\n",
       "      <td>12680.0</td>\n",
       "      <td>France</td>\n",
       "    </tr>\n",
       "    <tr>\n",
       "      <th>541905</th>\n",
       "      <td>581587</td>\n",
       "      <td>22899</td>\n",
       "      <td>CHILDREN'S APRON DOLLY GIRL</td>\n",
       "      <td>6</td>\n",
       "      <td>2011-12-09 12:50:00</td>\n",
       "      <td>2.10</td>\n",
       "      <td>12680.0</td>\n",
       "      <td>France</td>\n",
       "    </tr>\n",
       "    <tr>\n",
       "      <th>541906</th>\n",
       "      <td>581587</td>\n",
       "      <td>23254</td>\n",
       "      <td>CHILDRENS CUTLERY DOLLY GIRL</td>\n",
       "      <td>4</td>\n",
       "      <td>2011-12-09 12:50:00</td>\n",
       "      <td>4.15</td>\n",
       "      <td>12680.0</td>\n",
       "      <td>France</td>\n",
       "    </tr>\n",
       "    <tr>\n",
       "      <th>541907</th>\n",
       "      <td>581587</td>\n",
       "      <td>23255</td>\n",
       "      <td>CHILDRENS CUTLERY CIRCUS PARADE</td>\n",
       "      <td>4</td>\n",
       "      <td>2011-12-09 12:50:00</td>\n",
       "      <td>4.15</td>\n",
       "      <td>12680.0</td>\n",
       "      <td>France</td>\n",
       "    </tr>\n",
       "    <tr>\n",
       "      <th>541908</th>\n",
       "      <td>581587</td>\n",
       "      <td>22138</td>\n",
       "      <td>BAKING SET 9 PIECE RETROSPOT</td>\n",
       "      <td>3</td>\n",
       "      <td>2011-12-09 12:50:00</td>\n",
       "      <td>4.95</td>\n",
       "      <td>12680.0</td>\n",
       "      <td>France</td>\n",
       "    </tr>\n",
       "  </tbody>\n",
       "</table>\n",
       "</div>"
      ],
      "text/plain": [
       "       InvoiceNo StockCode                      Description  Quantity  \\\n",
       "541904    581587     22613      PACK OF 20 SPACEBOY NAPKINS        12   \n",
       "541905    581587     22899     CHILDREN'S APRON DOLLY GIRL          6   \n",
       "541906    581587     23254    CHILDRENS CUTLERY DOLLY GIRL          4   \n",
       "541907    581587     23255  CHILDRENS CUTLERY CIRCUS PARADE         4   \n",
       "541908    581587     22138    BAKING SET 9 PIECE RETROSPOT          3   \n",
       "\n",
       "               InvoiceDate  UnitPrice  CustomerID Country  \n",
       "541904 2011-12-09 12:50:00       0.85     12680.0  France  \n",
       "541905 2011-12-09 12:50:00       2.10     12680.0  France  \n",
       "541906 2011-12-09 12:50:00       4.15     12680.0  France  \n",
       "541907 2011-12-09 12:50:00       4.15     12680.0  France  \n",
       "541908 2011-12-09 12:50:00       4.95     12680.0  France  "
      ]
     },
     "execution_count": 4,
     "metadata": {},
     "output_type": "execute_result"
    }
   ],
   "source": [
    "# Display last 5 rows \n",
    "df.tail()"
   ]
  },
  {
   "cell_type": "code",
   "execution_count": 5,
   "id": "44f957f3-498e-43bb-a946-0865775e512c",
   "metadata": {},
   "outputs": [
    {
     "data": {
      "text/plain": [
       "(541909, 8)"
      ]
     },
     "execution_count": 5,
     "metadata": {},
     "output_type": "execute_result"
    }
   ],
   "source": [
    "# rows and columns \n",
    "df.shape"
   ]
  },
  {
   "cell_type": "code",
   "execution_count": 6,
   "id": "e3f2d1ec-3c38-4238-9f5e-c8624b20f882",
   "metadata": {},
   "outputs": [
    {
     "data": {
      "text/plain": [
       "InvoiceNo              object\n",
       "StockCode              object\n",
       "Description            object\n",
       "Quantity                int64\n",
       "InvoiceDate    datetime64[ns]\n",
       "UnitPrice             float64\n",
       "CustomerID            float64\n",
       "Country                object\n",
       "dtype: object"
      ]
     },
     "execution_count": 6,
     "metadata": {},
     "output_type": "execute_result"
    }
   ],
   "source": [
    "# check data type of each column\n",
    "df.dtypes"
   ]
  },
  {
   "cell_type": "code",
   "execution_count": 7,
   "id": "e87a8b24-42ee-4a37-bfb8-26244acaef48",
   "metadata": {},
   "outputs": [
    {
     "name": "stdout",
     "output_type": "stream",
     "text": [
      "<class 'pandas.core.frame.DataFrame'>\n",
      "RangeIndex: 541909 entries, 0 to 541908\n",
      "Data columns (total 8 columns):\n",
      " #   Column       Non-Null Count   Dtype         \n",
      "---  ------       --------------   -----         \n",
      " 0   InvoiceNo    541909 non-null  object        \n",
      " 1   StockCode    541909 non-null  object        \n",
      " 2   Description  540455 non-null  object        \n",
      " 3   Quantity     541909 non-null  int64         \n",
      " 4   InvoiceDate  541909 non-null  datetime64[ns]\n",
      " 5   UnitPrice    541909 non-null  float64       \n",
      " 6   CustomerID   406829 non-null  float64       \n",
      " 7   Country      541909 non-null  object        \n",
      "dtypes: datetime64[ns](1), float64(2), int64(1), object(4)\n",
      "memory usage: 33.1+ MB\n"
     ]
    }
   ],
   "source": [
    "# Check basic information about the dataset\n",
    "df.info()"
   ]
  },
  {
   "cell_type": "code",
   "execution_count": 8,
   "id": "ec3363b3-d405-4b5a-95f5-1ea0addb383b",
   "metadata": {},
   "outputs": [
    {
     "data": {
      "text/html": [
       "<div>\n",
       "<style scoped>\n",
       "    .dataframe tbody tr th:only-of-type {\n",
       "        vertical-align: middle;\n",
       "    }\n",
       "\n",
       "    .dataframe tbody tr th {\n",
       "        vertical-align: top;\n",
       "    }\n",
       "\n",
       "    .dataframe thead th {\n",
       "        text-align: right;\n",
       "    }\n",
       "</style>\n",
       "<table border=\"1\" class=\"dataframe\">\n",
       "  <thead>\n",
       "    <tr style=\"text-align: right;\">\n",
       "      <th></th>\n",
       "      <th>Quantity</th>\n",
       "      <th>InvoiceDate</th>\n",
       "      <th>UnitPrice</th>\n",
       "      <th>CustomerID</th>\n",
       "    </tr>\n",
       "  </thead>\n",
       "  <tbody>\n",
       "    <tr>\n",
       "      <th>count</th>\n",
       "      <td>541909.000000</td>\n",
       "      <td>541909</td>\n",
       "      <td>541909.000000</td>\n",
       "      <td>406829.000000</td>\n",
       "    </tr>\n",
       "    <tr>\n",
       "      <th>mean</th>\n",
       "      <td>9.552250</td>\n",
       "      <td>2011-07-04 13:34:57.156386048</td>\n",
       "      <td>4.611114</td>\n",
       "      <td>15287.690570</td>\n",
       "    </tr>\n",
       "    <tr>\n",
       "      <th>min</th>\n",
       "      <td>-80995.000000</td>\n",
       "      <td>2010-12-01 08:26:00</td>\n",
       "      <td>-11062.060000</td>\n",
       "      <td>12346.000000</td>\n",
       "    </tr>\n",
       "    <tr>\n",
       "      <th>25%</th>\n",
       "      <td>1.000000</td>\n",
       "      <td>2011-03-28 11:34:00</td>\n",
       "      <td>1.250000</td>\n",
       "      <td>13953.000000</td>\n",
       "    </tr>\n",
       "    <tr>\n",
       "      <th>50%</th>\n",
       "      <td>3.000000</td>\n",
       "      <td>2011-07-19 17:17:00</td>\n",
       "      <td>2.080000</td>\n",
       "      <td>15152.000000</td>\n",
       "    </tr>\n",
       "    <tr>\n",
       "      <th>75%</th>\n",
       "      <td>10.000000</td>\n",
       "      <td>2011-10-19 11:27:00</td>\n",
       "      <td>4.130000</td>\n",
       "      <td>16791.000000</td>\n",
       "    </tr>\n",
       "    <tr>\n",
       "      <th>max</th>\n",
       "      <td>80995.000000</td>\n",
       "      <td>2011-12-09 12:50:00</td>\n",
       "      <td>38970.000000</td>\n",
       "      <td>18287.000000</td>\n",
       "    </tr>\n",
       "    <tr>\n",
       "      <th>std</th>\n",
       "      <td>218.081158</td>\n",
       "      <td>NaN</td>\n",
       "      <td>96.759853</td>\n",
       "      <td>1713.600303</td>\n",
       "    </tr>\n",
       "  </tbody>\n",
       "</table>\n",
       "</div>"
      ],
      "text/plain": [
       "            Quantity                    InvoiceDate      UnitPrice  \\\n",
       "count  541909.000000                         541909  541909.000000   \n",
       "mean        9.552250  2011-07-04 13:34:57.156386048       4.611114   \n",
       "min    -80995.000000            2010-12-01 08:26:00  -11062.060000   \n",
       "25%         1.000000            2011-03-28 11:34:00       1.250000   \n",
       "50%         3.000000            2011-07-19 17:17:00       2.080000   \n",
       "75%        10.000000            2011-10-19 11:27:00       4.130000   \n",
       "max     80995.000000            2011-12-09 12:50:00   38970.000000   \n",
       "std       218.081158                            NaN      96.759853   \n",
       "\n",
       "          CustomerID  \n",
       "count  406829.000000  \n",
       "mean    15287.690570  \n",
       "min     12346.000000  \n",
       "25%     13953.000000  \n",
       "50%     15152.000000  \n",
       "75%     16791.000000  \n",
       "max     18287.000000  \n",
       "std      1713.600303  "
      ]
     },
     "execution_count": 8,
     "metadata": {},
     "output_type": "execute_result"
    }
   ],
   "source": [
    "# Summary statistics\n",
    "df.describe()"
   ]
  },
  {
   "cell_type": "code",
   "execution_count": 9,
   "id": "dc3dc1ed-1ef4-45c1-8760-e2656b136a4b",
   "metadata": {},
   "outputs": [
    {
     "data": {
      "text/plain": [
       "5268"
      ]
     },
     "execution_count": 9,
     "metadata": {},
     "output_type": "execute_result"
    }
   ],
   "source": [
    "# Checking for duplicates\n",
    "df.duplicated().sum()"
   ]
  },
  {
   "cell_type": "code",
   "execution_count": 10,
   "id": "5f445692-8360-415e-a0ce-86478a590b99",
   "metadata": {},
   "outputs": [],
   "source": [
    "# Removing duplicates\n",
    "df = df.drop_duplicates()"
   ]
  },
  {
   "cell_type": "code",
   "execution_count": 11,
   "id": "13ba4553-71b1-4b42-a956-49544db66b19",
   "metadata": {},
   "outputs": [
    {
     "data": {
      "text/plain": [
       "InvoiceNo           0\n",
       "StockCode           0\n",
       "Description      1454\n",
       "Quantity            0\n",
       "InvoiceDate         0\n",
       "UnitPrice           0\n",
       "CustomerID     135037\n",
       "Country             0\n",
       "dtype: int64"
      ]
     },
     "execution_count": 11,
     "metadata": {},
     "output_type": "execute_result"
    }
   ],
   "source": [
    "# Checking for missing values\n",
    "df.isnull().sum()"
   ]
  },
  {
   "cell_type": "code",
   "execution_count": 12,
   "id": "d54a61cd-a149-4817-8767-24400fcf81ad",
   "metadata": {},
   "outputs": [],
   "source": [
    "# 135,080 rows out of 541,909 have null values in the CustomerID column.\n",
    "# This means about 25% of CustomerID data is missing, which is significant.\n",
    "# Dropping the CustomerID column\n",
    "# This will reduces the dataset but ensures quality.\n",
    "\n",
    "df = df.dropna(subset=['CustomerID'])"
   ]
  },
  {
   "cell_type": "code",
   "execution_count": 13,
   "id": "c8963b99-4e17-4278-9b62-2122ed3d571a",
   "metadata": {},
   "outputs": [
    {
     "name": "stderr",
     "output_type": "stream",
     "text": [
      "C:\\Users\\Asus\\AppData\\Local\\Temp\\ipykernel_31164\\3076019398.py:5: FutureWarning: A value is trying to be set on a copy of a DataFrame or Series through chained assignment using an inplace method.\n",
      "The behavior will change in pandas 3.0. This inplace method will never work because the intermediate object on which we are setting values always behaves as a copy.\n",
      "\n",
      "For example, when doing 'df[col].method(value, inplace=True)', try using 'df.method({col: value}, inplace=True)' or df[col] = df[col].method(value) instead, to perform the operation inplace on the original object.\n",
      "\n",
      "\n",
      "  df['Description'].fillna(df['Description'].mode()[0], inplace=True)\n"
     ]
    }
   ],
   "source": [
    "# Description column has 1,454 null values.\n",
    "# 0.27% is very low, so it might not have a huge impact.\n",
    "# Filling it with the most frequent description\n",
    "\n",
    "df['Description'].fillna(df['Description'].mode()[0], inplace=True)"
   ]
  },
  {
   "cell_type": "code",
   "execution_count": 14,
   "id": "c2aaeb59-4ab7-4c98-9df2-bcd609a35e48",
   "metadata": {},
   "outputs": [],
   "source": [
    "# CustomerID is stored as float64, which is unnecessary. Converting it to int64\n",
    "df['CustomerID'] = df['CustomerID'].astype('int64')"
   ]
  },
  {
   "cell_type": "code",
   "execution_count": 15,
   "id": "1441a1cd-2466-4a7e-a748-894c021d1b44",
   "metadata": {},
   "outputs": [],
   "source": [
    "# Creating new column TotalSales for better analysis\n",
    "\n",
    "df['TotalSales'] = df['Quantity'] * df['UnitPrice']"
   ]
  },
  {
   "cell_type": "code",
   "execution_count": 16,
   "id": "750a1909-d244-482b-a937-9042d5f69c7e",
   "metadata": {},
   "outputs": [],
   "source": [
    "# Extracting Date Components from InvoiceDate\n",
    "\n",
    "df['Year'] = df['InvoiceDate'].dt.year\n",
    "df['Month'] = df['InvoiceDate'].dt.month\n",
    "df['Day'] = df['InvoiceDate'].dt.day\n",
    "df['Weekday'] = df['InvoiceDate'].dt.day_name()\n",
    "df['Hours'] = df['InvoiceDate'].dt.hour"
   ]
  },
  {
   "cell_type": "code",
   "execution_count": 17,
   "id": "72446c07-7c96-4d3f-b991-dc9d9fec2906",
   "metadata": {},
   "outputs": [
    {
     "data": {
      "image/png": "[encoded data removed]",
      "text/plain": [
       "<Figure size 1000x400 with 1 Axes>"
      ]
     },
     "metadata": {},
     "output_type": "display_data"
    }
   ],
   "source": [
    "# Checking for Outliers in Quantity \n",
    "plt.figure(figsize=(10,4))\n",
    "sns.boxplot(x=df['Quantity'])  \n",
    "plt.show()"
   ]
  },
  {
   "cell_type": "code",
   "execution_count": 18,
   "id": "9c7afc79-c19e-49bb-8f1b-641ac6be0f6e",
   "metadata": {},
   "outputs": [
    {
     "data": {
      "image/png": "[encoded data removed]",
      "text/plain": [
       "<Figure size 1000x400 with 1 Axes>"
      ]
     },
     "metadata": {},
     "output_type": "display_data"
    }
   ],
   "source": [
    "# Checking for Outliers in Price outliers\n",
    "plt.figure(figsize=(10,4))\n",
    "sns.boxplot(x=df['UnitPrice'])  \n",
    "plt.show()"
   ]
  },
  {
   "cell_type": "code",
   "execution_count": 19,
   "id": "5fb4c9b3-1534-4ae3-b4e9-6d4ecbd715f5",
   "metadata": {},
   "outputs": [],
   "source": [
    "# Removing Outliers Using IQR (Interquartile Range)\n",
    "\n",
    "Q1 = df[['Quantity', 'UnitPrice']].quantile(0.25)\n",
    "Q3 = df[['Quantity', 'UnitPrice']].quantile(0.75)\n",
    "IQR = Q3 - Q1\n",
    "\n",
    "df = df[~((df[['Quantity', 'UnitPrice']] < (Q1 - 1.5 * IQR)) | (df[['Quantity', 'UnitPrice']] > (Q3 + 1.5 * IQR))).any(axis=1)]"
   ]
  },
  {
   "cell_type": "markdown",
   "id": "82988016-d3dd-487c-9590-c441074e0cae",
   "metadata": {},
   "source": [
    "### New and repeat customers"
   ]
  },
  {
   "cell_type": "code",
   "execution_count": 20,
   "id": "8146620c-737a-4d0e-9b81-f0ed5ae2e325",
   "metadata": {},
   "outputs": [
    {
     "name": "stdout",
     "output_type": "stream",
     "text": [
      "   CustomerID         InvoiceDate   FirstPurchaseDate CustomerType\n",
      "0       17850 2010-12-01 08:26:00 2010-12-01 08:26:00          New\n",
      "1       17850 2010-12-01 08:26:00 2010-12-01 08:26:00          New\n",
      "2       17850 2010-12-01 08:26:00 2010-12-01 08:26:00          New\n",
      "3       17850 2010-12-01 08:26:00 2010-12-01 08:26:00          New\n",
      "4       17850 2010-12-01 08:26:00 2010-12-01 08:26:00          New\n"
     ]
    }
   ],
   "source": [
    "# Get the first purchase date for each customer\n",
    "first_purchase = df.groupby('CustomerID')['InvoiceDate'].min().reset_index()\n",
    "first_purchase.rename(columns={'InvoiceDate': 'FirstPurchaseDate'}, inplace=True)\n",
    "\n",
    "# Merge with the original dataset\n",
    "df = df.merge(first_purchase, on='CustomerID', how='left')\n",
    "\n",
    "# Create a new column: \"New\" if first purchase, otherwise \"Repeat\"\n",
    "df['CustomerType'] = df.apply(lambda x: 'New' if x['InvoiceDate'] == x['FirstPurchaseDate'] else 'Repeat', axis=1)\n",
    "\n",
    "# Display the first few rows\n",
    "print(df[['CustomerID', 'InvoiceDate', 'FirstPurchaseDate', 'CustomerType']].head())"
   ]
  },
  {
   "cell_type": "markdown",
   "id": "aa1fca79-cb9c-49d2-8db6-34f24b5e428a",
   "metadata": {},
   "source": [
    "### Average Time Between Purchases"
   ]
  },
  {
   "cell_type": "code",
   "execution_count": 21,
   "id": "35f17de1-4245-47c4-a371-81fdef807867",
   "metadata": {},
   "outputs": [],
   "source": [
    "# Calculate time difference between purchases\n",
    "df['PrevPurchaseDate'] = df.sort_values(['CustomerID', 'InvoiceDate']).groupby('CustomerID')['InvoiceDate'].shift(1)\n",
    "df['DaysBetween'] = (df['InvoiceDate'] - df['PrevPurchaseDate']).dt.days"
   ]
  },
  {
   "cell_type": "code",
   "execution_count": 22,
   "id": "4eda07e5-a620-4419-a216-902fdb7328ee",
   "metadata": {},
   "outputs": [
    {
     "name": "stdout",
     "output_type": "stream",
     "text": [
      "Average Days Between Purchases: 1.63\n"
     ]
    }
   ],
   "source": [
    "# Average days between purchases (for repeat customers)\n",
    "avg_days_between = df[df['DaysBetween'].notna()]['DaysBetween'].mean()\n",
    "print(f\"Average Days Between Purchases: {avg_days_between:.2f}\")"
   ]
  },
  {
   "cell_type": "markdown",
   "id": "643f95d4-8cce-4b51-bb6e-131e88917e29",
   "metadata": {},
   "source": [
    "###  Recency, Frequency, Monetary (RFM) Analysis"
   ]
  },
  {
   "cell_type": "code",
   "execution_count": 23,
   "id": "fedc11e8-535d-4141-ba78-8b55e25cb7d2",
   "metadata": {},
   "outputs": [],
   "source": [
    "# Defining reference date (latest transaction date)\n",
    "reference_date = df['InvoiceDate'].max()"
   ]
  },
  {
   "cell_type": "code",
   "execution_count": 24,
   "id": "b089c030-aad4-41ed-a2d3-2435d0361841",
   "metadata": {},
   "outputs": [],
   "source": [
    "# Group by customer and calculate RFM values\n",
    "rfm = df.groupby('CustomerID').agg(\n",
    "    Recency=('InvoiceDate', lambda x: (reference_date - x.max()).days),\n",
    "    Frequency=('InvoiceDate', 'count'),\n",
    "    Monetary=('TotalSales', 'sum')\n",
    ").reset_index()"
   ]
  },
  {
   "cell_type": "code",
   "execution_count": 25,
   "id": "ba027c0a-ecad-4ccd-9c06-2e389a0653ae",
   "metadata": {},
   "outputs": [
    {
     "data": {
      "text/html": [
       "<div>\n",
       "<style scoped>\n",
       "    .dataframe tbody tr th:only-of-type {\n",
       "        vertical-align: middle;\n",
       "    }\n",
       "\n",
       "    .dataframe tbody tr th {\n",
       "        vertical-align: top;\n",
       "    }\n",
       "\n",
       "    .dataframe thead th {\n",
       "        text-align: right;\n",
       "    }\n",
       "</style>\n",
       "<table border=\"1\" class=\"dataframe\">\n",
       "  <thead>\n",
       "    <tr style=\"text-align: right;\">\n",
       "      <th></th>\n",
       "      <th>CustomerID</th>\n",
       "      <th>Recency</th>\n",
       "      <th>Frequency</th>\n",
       "      <th>Monetary</th>\n",
       "    </tr>\n",
       "  </thead>\n",
       "  <tbody>\n",
       "    <tr>\n",
       "      <th>0</th>\n",
       "      <td>12347</td>\n",
       "      <td>1</td>\n",
       "      <td>166</td>\n",
       "      <td>3314.73</td>\n",
       "    </tr>\n",
       "    <tr>\n",
       "      <th>1</th>\n",
       "      <td>12348</td>\n",
       "      <td>248</td>\n",
       "      <td>6</td>\n",
       "      <td>90.20</td>\n",
       "    </tr>\n",
       "    <tr>\n",
       "      <th>2</th>\n",
       "      <td>12349</td>\n",
       "      <td>18</td>\n",
       "      <td>58</td>\n",
       "      <td>999.15</td>\n",
       "    </tr>\n",
       "    <tr>\n",
       "      <th>3</th>\n",
       "      <td>12350</td>\n",
       "      <td>309</td>\n",
       "      <td>16</td>\n",
       "      <td>294.40</td>\n",
       "    </tr>\n",
       "    <tr>\n",
       "      <th>4</th>\n",
       "      <td>12352</td>\n",
       "      <td>35</td>\n",
       "      <td>73</td>\n",
       "      <td>1010.61</td>\n",
       "    </tr>\n",
       "  </tbody>\n",
       "</table>\n",
       "</div>"
      ],
      "text/plain": [
       "   CustomerID  Recency  Frequency  Monetary\n",
       "0       12347        1        166   3314.73\n",
       "1       12348      248          6     90.20\n",
       "2       12349       18         58    999.15\n",
       "3       12350      309         16    294.40\n",
       "4       12352       35         73   1010.61"
      ]
     },
     "execution_count": 25,
     "metadata": {},
     "output_type": "execute_result"
    }
   ],
   "source": [
    "# Display RFM values\n",
    "rfm.head()"
   ]
  },
  {
   "cell_type": "code",
   "execution_count": 26,
   "id": "cf7d869b-8517-416e-a8ad-be74f251140f",
   "metadata": {},
   "outputs": [
    {
     "data": {
      "image/png": "[encoded data removed]",
      "text/plain": [
       "<Figure size 1800x500 with 3 Axes>"
      ]
     },
     "metadata": {},
     "output_type": "display_data"
    }
   ],
   "source": [
    "# Set figure size\n",
    "fig, axes = plt.subplots(1, 3, figsize=(18, 5))\n",
    "\n",
    "# Recency distribution\n",
    "sns.histplot(rfm['Recency'], bins=30, kde=True, ax=axes[0], color='blue')\n",
    "axes[0].set_title('Recency Distribution')\n",
    "axes[0].set_xlabel('Days Since Last Purchase')\n",
    "\n",
    "# Frequency distribution\n",
    "sns.histplot(rfm['Frequency'], bins=30, kde=True, ax=axes[1], color='green')\n",
    "axes[1].set_title('Frequency Distribution')\n",
    "axes[1].set_xlabel('Number of Purchases')\n",
    "\n",
    "# Monetary distribution\n",
    "sns.histplot(rfm['Monetary'], bins=30, kde=True, ax=axes[2], color='red')\n",
    "axes[2].set_title('Monetary Distribution')\n",
    "axes[2].set_xlabel('Total Spend')\n",
    "\n",
    "plt.tight_layout()\n",
    "plt.show()"
   ]
  },
  {
   "cell_type": "markdown",
   "id": "5f450fd6-4a3b-41be-98fb-fbcfd18c2d88",
   "metadata": {},
   "source": [
    "### Customer Purchase Journey"
   ]
  },
  {
   "cell_type": "code",
   "execution_count": 27,
   "id": "f9731dac-1154-4a89-8e52-d4be27d59614",
   "metadata": {},
   "outputs": [],
   "source": [
    "customer_journey = df.groupby('CustomerID').agg(\n",
    "    FirstPurchase=('InvoiceDate', 'min'),\n",
    "    LastPurchase=('InvoiceDate', 'max'),\n",
    "    TotalPurchases=('CustomerID', 'count'),\n",
    "    TotalSpent=('TotalSales', 'sum')\n",
    ").reset_index()"
   ]
  },
  {
   "cell_type": "code",
   "execution_count": 28,
   "id": "7a80ad01-ea6c-491c-a2c6-8dcfcf7154f3",
   "metadata": {},
   "outputs": [
    {
     "data": {
      "image/png": "[encoded data removed]",
      "text/plain": [
       "<Figure size 1000x500 with 1 Axes>"
      ]
     },
     "metadata": {},
     "output_type": "display_data"
    }
   ],
   "source": [
    "customer_journey['FirstPurchaseMonth'] = customer_journey['FirstPurchase'].dt.to_period('M')\n",
    "\n",
    "plt.figure(figsize=(10, 5))\n",
    "sns.countplot(data=customer_journey, x='FirstPurchaseMonth', order=customer_journey['FirstPurchaseMonth'].value_counts().index, color='green')\n",
    "plt.xticks(rotation=45)\n",
    "plt.title('Customer Acquisition Over Time')\n",
    "plt.xlabel('Month of First Purchase')\n",
    "plt.ylabel('Number of Customers')\n",
    "plt.show()\n"
   ]
  },
  {
   "cell_type": "code",
   "execution_count": 29,
   "id": "4967f7a1-e546-494a-ae8c-82893e915c95",
   "metadata": {},
   "outputs": [
    {
     "data": {
      "text/html": [
       "<div>\n",
       "<style scoped>\n",
       "    .dataframe tbody tr th:only-of-type {\n",
       "        vertical-align: middle;\n",
       "    }\n",
       "\n",
       "    .dataframe tbody tr th {\n",
       "        vertical-align: top;\n",
       "    }\n",
       "\n",
       "    .dataframe thead th {\n",
       "        text-align: right;\n",
       "    }\n",
       "</style>\n",
       "<table border=\"1\" class=\"dataframe\">\n",
       "  <thead>\n",
       "    <tr style=\"text-align: right;\">\n",
       "      <th>CustomerType</th>\n",
       "      <th>New</th>\n",
       "      <th>Repeat</th>\n",
       "    </tr>\n",
       "    <tr>\n",
       "      <th>Month</th>\n",
       "      <th></th>\n",
       "      <th></th>\n",
       "    </tr>\n",
       "  </thead>\n",
       "  <tbody>\n",
       "    <tr>\n",
       "      <th>1</th>\n",
       "      <td>403</td>\n",
       "      <td>412</td>\n",
       "    </tr>\n",
       "    <tr>\n",
       "      <th>2</th>\n",
       "      <td>362</td>\n",
       "      <td>432</td>\n",
       "    </tr>\n",
       "    <tr>\n",
       "      <th>3</th>\n",
       "      <td>434</td>\n",
       "      <td>592</td>\n",
       "    </tr>\n",
       "    <tr>\n",
       "      <th>4</th>\n",
       "      <td>287</td>\n",
       "      <td>600</td>\n",
       "    </tr>\n",
       "    <tr>\n",
       "      <th>5</th>\n",
       "      <td>272</td>\n",
       "      <td>802</td>\n",
       "    </tr>\n",
       "    <tr>\n",
       "      <th>6</th>\n",
       "      <td>227</td>\n",
       "      <td>800</td>\n",
       "    </tr>\n",
       "    <tr>\n",
       "      <th>7</th>\n",
       "      <td>193</td>\n",
       "      <td>766</td>\n",
       "    </tr>\n",
       "    <tr>\n",
       "      <th>8</th>\n",
       "      <td>163</td>\n",
       "      <td>778</td>\n",
       "    </tr>\n",
       "    <tr>\n",
       "      <th>9</th>\n",
       "      <td>293</td>\n",
       "      <td>983</td>\n",
       "    </tr>\n",
       "    <tr>\n",
       "      <th>10</th>\n",
       "      <td>354</td>\n",
       "      <td>1070</td>\n",
       "    </tr>\n",
       "    <tr>\n",
       "      <th>11</th>\n",
       "      <td>318</td>\n",
       "      <td>1385</td>\n",
       "    </tr>\n",
       "    <tr>\n",
       "      <th>12</th>\n",
       "      <td>916</td>\n",
       "      <td>789</td>\n",
       "    </tr>\n",
       "  </tbody>\n",
       "</table>\n",
       "</div>"
      ],
      "text/plain": [
       "CustomerType  New  Repeat\n",
       "Month                    \n",
       "1             403     412\n",
       "2             362     432\n",
       "3             434     592\n",
       "4             287     600\n",
       "5             272     802\n",
       "6             227     800\n",
       "7             193     766\n",
       "8             163     778\n",
       "9             293     983\n",
       "10            354    1070\n",
       "11            318    1385\n",
       "12            916     789"
      ]
     },
     "execution_count": 29,
     "metadata": {},
     "output_type": "execute_result"
    }
   ],
   "source": [
    "# Count new and repeat customers per month\n",
    "customer_counts = df.groupby(['Month', 'CustomerType'])['CustomerID'].nunique().reset_index()\n",
    "\n",
    "# Pivot for better visualization\n",
    "customer_counts_pivot = customer_counts.pivot(index='Month', columns='CustomerType', values='CustomerID').fillna(0)\n",
    "\n",
    "customer_counts_pivot"
   ]
  },
  {
   "cell_type": "code",
   "execution_count": 30,
   "id": "ed0e5fc2-da77-4bb9-8362-89f3a8da36cc",
   "metadata": {},
   "outputs": [
    {
     "data": {
      "image/png": "[encoded data removed]",
      "text/plain": [
       "<Figure size 1000x600 with 1 Axes>"
      ]
     },
     "metadata": {},
     "output_type": "display_data"
    }
   ],
   "source": [
    "# Plot stacked bar chart\n",
    "customer_counts_pivot.plot(kind='bar', stacked=True, figsize=(10, 6), colormap='coolwarm')\n",
    "\n",
    "plt.title('New vs. Repeat Customers per Month')\n",
    "plt.xlabel('Month')\n",
    "plt.ylabel('Number of Customers')\n",
    "plt.legend(title=\"Customer Type\")\n",
    "plt.xticks(rotation=45)\n",
    "plt.show()"
   ]
  },
  {
   "cell_type": "markdown",
   "id": "43595b76-f1ae-4875-97ef-f4ff4e7a5390",
   "metadata": {},
   "source": [
    "### Customer Retention Analysis"
   ]
  },
  {
   "cell_type": "code",
   "execution_count": 31,
   "id": "1719d255-6f7b-40a6-9af3-2c3fdbc70c9b",
   "metadata": {},
   "outputs": [
    {
     "data": {
      "text/plain": [
       "2869"
      ]
     },
     "execution_count": 31,
     "metadata": {},
     "output_type": "execute_result"
    }
   ],
   "source": [
    "# Identify repeat customers\n",
    "repeat_customers = df[df['CustomerType'] == 'Repeat']['CustomerID'].nunique()\n",
    "repeat_customers"
   ]
  },
  {
   "cell_type": "code",
   "execution_count": 32,
   "id": "a6ea63a7-162e-499c-8768-03ac3d2994bd",
   "metadata": {},
   "outputs": [
    {
     "data": {
      "text/plain": [
       "4222"
      ]
     },
     "execution_count": 32,
     "metadata": {},
     "output_type": "execute_result"
    }
   ],
   "source": [
    "total_customers = df['CustomerID'].nunique()\n",
    "total_customers"
   ]
  },
  {
   "cell_type": "code",
   "execution_count": 35,
   "id": "e601d52d-ae95-4962-8856-86beefa2a265",
   "metadata": {},
   "outputs": [],
   "source": [
    "# Identify one-time customers (customers who purchased only once)\n",
    "one_time_customers = df['CustomerID'].value_counts()[df['CustomerID'].value_counts() == 1].count()"
   ]
  },
  {
   "cell_type": "code",
   "execution_count": 36,
   "id": "8b2f6d1a-424f-415c-a8ba-d51ffc76ef18",
   "metadata": {},
   "outputs": [
    {
     "name": "stdout",
     "output_type": "stream",
     "text": [
      "Customer Retention Rate: 67.95%\n"
     ]
    }
   ],
   "source": [
    "# Calculate retention rate\n",
    "retention_rate = (repeat_customers / total_customers) * 100\n",
    "print(f\"Customer Retention Rate: {retention_rate:.2f}%\")"
   ]
  },
  {
   "cell_type": "markdown",
   "id": "8ee566c6-4cab-4818-be72-42df66a595ca",
   "metadata": {},
   "source": [
    "### Churn Rate (Customers Who Never Returned)"
   ]
  },
  {
   "cell_type": "code",
   "execution_count": null,
   "id": "53306367-e9c1-43b0-91c5-3f733ac0d0c2",
   "metadata": {},
   "outputs": [],
   "source": [
    "# Customers who purchased only once\n",
    "one_time_customers = df['CustomerID'].value_counts()[df['CustomerID'].value_counts() == 1].count()\n",
    "churn_rate = (one_time_customers / total_customers) * 100\n",
    "print(f\"Churn Rate: {churn_rate:.2f}%\")"
   ]
  },
  {
   "cell_type": "code",
   "execution_count": 40,
   "id": "e8a132ca-9036-48d5-a114-fde29694b804",
   "metadata": {},
   "outputs": [
    {
     "data": {
      "image/png": "[encoded data removed]",
      "text/plain": [
       "<Figure size 600x600 with 1 Axes>"
      ]
     },
     "metadata": {},
     "output_type": "display_data"
    }
   ],
   "source": [
    "# Calculate repeat customers\n",
    "repeat_customers = total_customers - one_time_customers\n",
    "\n",
    "# Plotting \n",
    "labels = ['Churned Customers', 'Repeat Customers']\n",
    "sizes = [one_time_customers, repeat_customers]\n",
    "colors = ['red', 'green']\n",
    "\n",
    "# Create pie chart (donut style)\n",
    "plt.figure(figsize=(6, 6))\n",
    "plt.pie(sizes, labels=labels, autopct='%1.1f%%', colors=colors, wedgeprops={'edgecolor': 'black'})\n",
    "plt.gca().add_artist(plt.Circle((0, 0), 0.7, fc='Yellow'))  # Donut hole\n",
    "\n",
    "plt.title('Customer Churn Rate')\n",
    "plt.show()"
   ]
  },
  {
   "cell_type": "markdown",
   "id": "3e36d7e0-63a1-4b30-bc59-afa83e165523",
   "metadata": {},
   "source": [
    "### Customer Lifetime Value (LTV)"
   ]
  },
  {
   "cell_type": "code",
   "execution_count": 41,
   "id": "80f5d614-388e-46d8-8d20-160be60888e3",
   "metadata": {},
   "outputs": [],
   "source": [
    "# Calculate total revenue per customer\n",
    "customer_revenue = df.groupby('CustomerID')['TotalSales'].sum()"
   ]
  },
  {
   "cell_type": "code",
   "execution_count": 42,
   "id": "e5adeec9-cb47-433f-a229-c022fde63296",
   "metadata": {},
   "outputs": [
    {
     "name": "stdout",
     "output_type": "stream",
     "text": [
      "Average Customer Lifetime Value (LTV): ₹1006.79\n"
     ]
    }
   ],
   "source": [
    "# Average revenue per customer\n",
    "average_ltv = customer_revenue.mean()\n",
    "print(f\"Average Customer Lifetime Value (LTV): ₹{average_ltv:.2f}\")"
   ]
  },
  {
   "cell_type": "markdown",
   "id": "13bfb4cb-ff7a-4cc1-befb-b76361562a49",
   "metadata": {},
   "source": [
    "### Monthly Cohort Analysis (Track Customer Behavior Over Time)"
   ]
  },
  {
   "cell_type": "code",
   "execution_count": 43,
   "id": "b3ba38c1-2301-47ff-9726-6feb3e77fc51",
   "metadata": {},
   "outputs": [],
   "source": [
    "# Create a cohort table\n",
    "df['CohortMonth'] = df.groupby('CustomerID')['InvoiceDate'].transform('min').dt.to_period('M')\n",
    "df['PurchaseMonth'] = df['InvoiceDate'].dt.to_period('M')"
   ]
  },
  {
   "cell_type": "code",
   "execution_count": 44,
   "id": "8671ac6e-1f35-4344-ac1b-0cba248dd1c8",
   "metadata": {},
   "outputs": [
    {
     "name": "stdout",
     "output_type": "stream",
     "text": [
      "PurchaseMonth  2010-12  2011-01  2011-02  2011-03  2011-04  2011-05  2011-06  \\\n",
      "CohortMonth                                                                    \n",
      "2010-12          878.0    327.0    282.0    328.0    308.0    348.0    333.0   \n",
      "2011-01            0.0    403.0     90.0    112.0     97.0    129.0    120.0   \n",
      "2011-02            0.0      0.0    362.0     83.0     65.0    100.0     96.0   \n",
      "2011-03            0.0      0.0      0.0    434.0     75.0    111.0     95.0   \n",
      "2011-04            0.0      0.0      0.0      0.0    287.0     62.0     61.0   \n",
      "2011-05            0.0      0.0      0.0      0.0      0.0    272.0     57.0   \n",
      "2011-06            0.0      0.0      0.0      0.0      0.0      0.0    227.0   \n",
      "2011-07            0.0      0.0      0.0      0.0      0.0      0.0      0.0   \n",
      "2011-08            0.0      0.0      0.0      0.0      0.0      0.0      0.0   \n",
      "2011-09            0.0      0.0      0.0      0.0      0.0      0.0      0.0   \n",
      "2011-10            0.0      0.0      0.0      0.0      0.0      0.0      0.0   \n",
      "2011-11            0.0      0.0      0.0      0.0      0.0      0.0      0.0   \n",
      "2011-12            0.0      0.0      0.0      0.0      0.0      0.0      0.0   \n",
      "\n",
      "PurchaseMonth  2011-07  2011-08  2011-09  2011-10  2011-11  2011-12  \n",
      "CohortMonth                                                          \n",
      "2010-12          297.0    306.0    337.0    327.0    435.0    238.0  \n",
      "2011-01          103.0    101.0    126.0    134.0    146.0     58.0  \n",
      "2011-02           88.0     87.0     95.0     95.0    112.0     32.0  \n",
      "2011-03          101.0     79.0    108.0    106.0    126.0     41.0  \n",
      "2011-04           57.0     57.0     70.0     66.0     72.0     23.0  \n",
      "2011-05           48.0     46.0     60.0     62.0     75.0     27.0  \n",
      "2011-06           46.0     38.0     62.0     53.0     73.0     26.0  \n",
      "2011-07          193.0     37.0     41.0     46.0     54.0     25.0  \n",
      "2011-08            0.0    163.0     37.0     41.0     41.0     24.0  \n",
      "2011-09            0.0      0.0    293.0     85.0     96.0     36.0  \n",
      "2011-10            0.0      0.0      0.0    354.0     89.0     44.0  \n",
      "2011-11            0.0      0.0      0.0      0.0    318.0     39.0  \n",
      "2011-12            0.0      0.0      0.0      0.0      0.0     38.0  \n"
     ]
    }
   ],
   "source": [
    "# Count unique customers per cohort and month\n",
    "cohort_table = df.groupby(['CohortMonth', 'PurchaseMonth'])['CustomerID'].nunique().unstack().fillna(0)\n",
    "print(cohort_table)"
   ]
  },
  {
   "cell_type": "markdown",
   "id": "6808e2fd-6839-4b43-b755-5878b79c9421",
   "metadata": {},
   "source": [
    "### Customer Segmentation (K-Means Clustering)"
   ]
  },
  {
   "cell_type": "code",
   "execution_count": 45,
   "id": "fcf58995-e4e3-4af1-b26e-09ebf0524eef",
   "metadata": {},
   "outputs": [
    {
     "data": {
      "text/html": [
       "<div>\n",
       "<style scoped>\n",
       "    .dataframe tbody tr th:only-of-type {\n",
       "        vertical-align: middle;\n",
       "    }\n",
       "\n",
       "    .dataframe tbody tr th {\n",
       "        vertical-align: top;\n",
       "    }\n",
       "\n",
       "    .dataframe thead th {\n",
       "        text-align: right;\n",
       "    }\n",
       "</style>\n",
       "<table border=\"1\" class=\"dataframe\">\n",
       "  <thead>\n",
       "    <tr style=\"text-align: right;\">\n",
       "      <th></th>\n",
       "      <th>CustomerID</th>\n",
       "      <th>Recency</th>\n",
       "      <th>Frequency</th>\n",
       "      <th>Monetary</th>\n",
       "      <th>Cluster</th>\n",
       "    </tr>\n",
       "  </thead>\n",
       "  <tbody>\n",
       "    <tr>\n",
       "      <th>0</th>\n",
       "      <td>12347</td>\n",
       "      <td>1</td>\n",
       "      <td>166</td>\n",
       "      <td>3314.73</td>\n",
       "      <td>0</td>\n",
       "    </tr>\n",
       "    <tr>\n",
       "      <th>1</th>\n",
       "      <td>12348</td>\n",
       "      <td>248</td>\n",
       "      <td>6</td>\n",
       "      <td>90.20</td>\n",
       "      <td>1</td>\n",
       "    </tr>\n",
       "    <tr>\n",
       "      <th>2</th>\n",
       "      <td>12349</td>\n",
       "      <td>18</td>\n",
       "      <td>58</td>\n",
       "      <td>999.15</td>\n",
       "      <td>0</td>\n",
       "    </tr>\n",
       "    <tr>\n",
       "      <th>3</th>\n",
       "      <td>12350</td>\n",
       "      <td>309</td>\n",
       "      <td>16</td>\n",
       "      <td>294.40</td>\n",
       "      <td>1</td>\n",
       "    </tr>\n",
       "    <tr>\n",
       "      <th>4</th>\n",
       "      <td>12352</td>\n",
       "      <td>35</td>\n",
       "      <td>73</td>\n",
       "      <td>1010.61</td>\n",
       "      <td>0</td>\n",
       "    </tr>\n",
       "  </tbody>\n",
       "</table>\n",
       "</div>"
      ],
      "text/plain": [
       "   CustomerID  Recency  Frequency  Monetary  Cluster\n",
       "0       12347        1        166   3314.73        0\n",
       "1       12348      248          6     90.20        1\n",
       "2       12349       18         58    999.15        0\n",
       "3       12350      309         16    294.40        1\n",
       "4       12352       35         73   1010.61        0"
      ]
     },
     "execution_count": 45,
     "metadata": {},
     "output_type": "execute_result"
    }
   ],
   "source": [
    "# Select RFM features\n",
    "rfm_features = rfm[['Recency', 'Frequency', 'Monetary']]\n",
    "\n",
    "# Scale the data\n",
    "scaler = StandardScaler()\n",
    "rfm_scaled = scaler.fit_transform(rfm_features)\n",
    "\n",
    "# Apply K-Means\n",
    "kmeans = KMeans(n_clusters=3, random_state=42)\n",
    "rfm['Cluster'] = kmeans.fit_predict(rfm_scaled)\n",
    "\n",
    "rfm.head()"
   ]
  },
  {
   "cell_type": "code",
   "execution_count": 46,
   "id": "ba9c2853-5a05-4394-9f7c-453cd73d6254",
   "metadata": {},
   "outputs": [],
   "source": [
    "# Saving clean dataset\n",
    "df.to_csv('Online_Retail_Cleaned.csv')"
   ]
  },
  {
   "cell_type": "code",
   "execution_count": 47,
   "id": "2fe79c8d-8253-49ab-9a91-fdef06c86958",
   "metadata": {},
   "outputs": [
    {
     "data": {
      "text/html": [
       "<div>\n",
       "<style scoped>\n",
       "    .dataframe tbody tr th:only-of-type {\n",
       "        vertical-align: middle;\n",
       "    }\n",
       "\n",
       "    .dataframe tbody tr th {\n",
       "        vertical-align: top;\n",
       "    }\n",
       "\n",
       "    .dataframe thead th {\n",
       "        text-align: right;\n",
       "    }\n",
       "</style>\n",
       "<table border=\"1\" class=\"dataframe\">\n",
       "  <thead>\n",
       "    <tr style=\"text-align: right;\">\n",
       "      <th></th>\n",
       "      <th>InvoiceNo</th>\n",
       "      <th>StockCode</th>\n",
       "      <th>Description</th>\n",
       "      <th>Quantity</th>\n",
       "      <th>InvoiceDate</th>\n",
       "      <th>UnitPrice</th>\n",
       "      <th>CustomerID</th>\n",
       "      <th>Country</th>\n",
       "      <th>TotalSales</th>\n",
       "      <th>Year</th>\n",
       "      <th>Month</th>\n",
       "      <th>Day</th>\n",
       "      <th>Weekday</th>\n",
       "      <th>Hours</th>\n",
       "      <th>FirstPurchaseDate</th>\n",
       "      <th>CustomerType</th>\n",
       "      <th>PrevPurchaseDate</th>\n",
       "      <th>DaysBetween</th>\n",
       "      <th>CohortMonth</th>\n",
       "      <th>PurchaseMonth</th>\n",
       "    </tr>\n",
       "  </thead>\n",
       "  <tbody>\n",
       "    <tr>\n",
       "      <th>0</th>\n",
       "      <td>536365</td>\n",
       "      <td>85123A</td>\n",
       "      <td>WHITE HANGING HEART T-LIGHT HOLDER</td>\n",
       "      <td>6</td>\n",
       "      <td>2010-12-01 08:26:00</td>\n",
       "      <td>2.55</td>\n",
       "      <td>17850</td>\n",
       "      <td>United Kingdom</td>\n",
       "      <td>15.30</td>\n",
       "      <td>2010</td>\n",
       "      <td>12</td>\n",
       "      <td>1</td>\n",
       "      <td>Wednesday</td>\n",
       "      <td>8</td>\n",
       "      <td>2010-12-01 08:26:00</td>\n",
       "      <td>New</td>\n",
       "      <td>NaT</td>\n",
       "      <td>NaN</td>\n",
       "      <td>2010-12</td>\n",
       "      <td>2010-12</td>\n",
       "    </tr>\n",
       "    <tr>\n",
       "      <th>1</th>\n",
       "      <td>536365</td>\n",
       "      <td>71053</td>\n",
       "      <td>WHITE METAL LANTERN</td>\n",
       "      <td>6</td>\n",
       "      <td>2010-12-01 08:26:00</td>\n",
       "      <td>3.39</td>\n",
       "      <td>17850</td>\n",
       "      <td>United Kingdom</td>\n",
       "      <td>20.34</td>\n",
       "      <td>2010</td>\n",
       "      <td>12</td>\n",
       "      <td>1</td>\n",
       "      <td>Wednesday</td>\n",
       "      <td>8</td>\n",
       "      <td>2010-12-01 08:26:00</td>\n",
       "      <td>New</td>\n",
       "      <td>2010-12-01 08:26:00</td>\n",
       "      <td>0.0</td>\n",
       "      <td>2010-12</td>\n",
       "      <td>2010-12</td>\n",
       "    </tr>\n",
       "    <tr>\n",
       "      <th>2</th>\n",
       "      <td>536365</td>\n",
       "      <td>84406B</td>\n",
       "      <td>CREAM CUPID HEARTS COAT HANGER</td>\n",
       "      <td>8</td>\n",
       "      <td>2010-12-01 08:26:00</td>\n",
       "      <td>2.75</td>\n",
       "      <td>17850</td>\n",
       "      <td>United Kingdom</td>\n",
       "      <td>22.00</td>\n",
       "      <td>2010</td>\n",
       "      <td>12</td>\n",
       "      <td>1</td>\n",
       "      <td>Wednesday</td>\n",
       "      <td>8</td>\n",
       "      <td>2010-12-01 08:26:00</td>\n",
       "      <td>New</td>\n",
       "      <td>2010-12-01 08:26:00</td>\n",
       "      <td>0.0</td>\n",
       "      <td>2010-12</td>\n",
       "      <td>2010-12</td>\n",
       "    </tr>\n",
       "    <tr>\n",
       "      <th>3</th>\n",
       "      <td>536365</td>\n",
       "      <td>84029G</td>\n",
       "      <td>KNITTED UNION FLAG HOT WATER BOTTLE</td>\n",
       "      <td>6</td>\n",
       "      <td>2010-12-01 08:26:00</td>\n",
       "      <td>3.39</td>\n",
       "      <td>17850</td>\n",
       "      <td>United Kingdom</td>\n",
       "      <td>20.34</td>\n",
       "      <td>2010</td>\n",
       "      <td>12</td>\n",
       "      <td>1</td>\n",
       "      <td>Wednesday</td>\n",
       "      <td>8</td>\n",
       "      <td>2010-12-01 08:26:00</td>\n",
       "      <td>New</td>\n",
       "      <td>2010-12-01 08:26:00</td>\n",
       "      <td>0.0</td>\n",
       "      <td>2010-12</td>\n",
       "      <td>2010-12</td>\n",
       "    </tr>\n",
       "    <tr>\n",
       "      <th>4</th>\n",
       "      <td>536365</td>\n",
       "      <td>84029E</td>\n",
       "      <td>RED WOOLLY HOTTIE WHITE HEART.</td>\n",
       "      <td>6</td>\n",
       "      <td>2010-12-01 08:26:00</td>\n",
       "      <td>3.39</td>\n",
       "      <td>17850</td>\n",
       "      <td>United Kingdom</td>\n",
       "      <td>20.34</td>\n",
       "      <td>2010</td>\n",
       "      <td>12</td>\n",
       "      <td>1</td>\n",
       "      <td>Wednesday</td>\n",
       "      <td>8</td>\n",
       "      <td>2010-12-01 08:26:00</td>\n",
       "      <td>New</td>\n",
       "      <td>2010-12-01 08:26:00</td>\n",
       "      <td>0.0</td>\n",
       "      <td>2010-12</td>\n",
       "      <td>2010-12</td>\n",
       "    </tr>\n",
       "  </tbody>\n",
       "</table>\n",
       "</div>"
      ],
      "text/plain": [
       "  InvoiceNo StockCode                          Description  Quantity  \\\n",
       "0    536365    85123A   WHITE HANGING HEART T-LIGHT HOLDER         6   \n",
       "1    536365     71053                  WHITE METAL LANTERN         6   \n",
       "2    536365    84406B       CREAM CUPID HEARTS COAT HANGER         8   \n",
       "3    536365    84029G  KNITTED UNION FLAG HOT WATER BOTTLE         6   \n",
       "4    536365    84029E       RED WOOLLY HOTTIE WHITE HEART.         6   \n",
       "\n",
       "          InvoiceDate  UnitPrice  CustomerID         Country  TotalSales  \\\n",
       "0 2010-12-01 08:26:00       2.55       17850  United Kingdom       15.30   \n",
       "1 2010-12-01 08:26:00       3.39       17850  United Kingdom       20.34   \n",
       "2 2010-12-01 08:26:00       2.75       17850  United Kingdom       22.00   \n",
       "3 2010-12-01 08:26:00       3.39       17850  United Kingdom       20.34   \n",
       "4 2010-12-01 08:26:00       3.39       17850  United Kingdom       20.34   \n",
       "\n",
       "   Year  Month  Day    Weekday  Hours   FirstPurchaseDate CustomerType  \\\n",
       "0  2010     12    1  Wednesday      8 2010-12-01 08:26:00          New   \n",
       "1  2010     12    1  Wednesday      8 2010-12-01 08:26:00          New   \n",
       "2  2010     12    1  Wednesday      8 2010-12-01 08:26:00          New   \n",
       "3  2010     12    1  Wednesday      8 2010-12-01 08:26:00          New   \n",
       "4  2010     12    1  Wednesday      8 2010-12-01 08:26:00          New   \n",
       "\n",
       "     PrevPurchaseDate  DaysBetween CohortMonth PurchaseMonth  \n",
       "0                 NaT          NaN     2010-12       2010-12  \n",
       "1 2010-12-01 08:26:00          0.0     2010-12       2010-12  \n",
       "2 2010-12-01 08:26:00          0.0     2010-12       2010-12  \n",
       "3 2010-12-01 08:26:00          0.0     2010-12       2010-12  \n",
       "4 2010-12-01 08:26:00          0.0     2010-12       2010-12  "
      ]
     },
     "execution_count": 47,
     "metadata": {},
     "output_type": "execute_result"
    }
   ],
   "source": [
    "df.head()"
   ]
  },
  {
   "cell_type": "code",
   "execution_count": 48,
   "id": "2939d4b4-4a76-4803-aba6-6f983d1ff3b0",
   "metadata": {},
   "outputs": [
    {
     "name": "stdout",
     "output_type": "stream",
     "text": [
      "<class 'pandas.core.frame.DataFrame'>\n",
      "RangeIndex: 339453 entries, 0 to 339452\n",
      "Data columns (total 20 columns):\n",
      " #   Column             Non-Null Count   Dtype         \n",
      "---  ------             --------------   -----         \n",
      " 0   InvoiceNo          339453 non-null  object        \n",
      " 1   StockCode          339453 non-null  object        \n",
      " 2   Description        339453 non-null  object        \n",
      " 3   Quantity           339453 non-null  int64         \n",
      " 4   InvoiceDate        339453 non-null  datetime64[ns]\n",
      " 5   UnitPrice          339453 non-null  float64       \n",
      " 6   CustomerID         339453 non-null  int64         \n",
      " 7   Country            339453 non-null  object        \n",
      " 8   TotalSales         339453 non-null  float64       \n",
      " 9   Year               339453 non-null  int32         \n",
      " 10  Month              339453 non-null  int32         \n",
      " 11  Day                339453 non-null  int32         \n",
      " 12  Weekday            339453 non-null  object        \n",
      " 13  Hours              339453 non-null  int32         \n",
      " 14  FirstPurchaseDate  339453 non-null  datetime64[ns]\n",
      " 15  CustomerType       339453 non-null  object        \n",
      " 16  PrevPurchaseDate   335231 non-null  datetime64[ns]\n",
      " 17  DaysBetween        335231 non-null  float64       \n",
      " 18  CohortMonth        339453 non-null  period[M]     \n",
      " 19  PurchaseMonth      339453 non-null  period[M]     \n",
      "dtypes: datetime64[ns](3), float64(3), int32(4), int64(2), object(6), period[M](2)\n",
      "memory usage: 46.6+ MB\n"
     ]
    }
   ],
   "source": [
    "df.info()"
   ]
  },
  {
   "cell_type": "code",
   "execution_count": null,
   "id": "34470ec4-b5c1-43ae-82ac-adb5d01869c4",
   "metadata": {},
   "outputs": [],
   "source": []
  },
  {
   "cell_type": "code",
   "execution_count": null,
   "id": "56a1140f-6615-43b6-b629-32aff2e434c9",
   "metadata": {},
   "outputs": [],
   "source": []
  },
  {
   "cell_type": "code",
   "execution_count": null,
   "id": "12280389-c57f-41f5-8c46-3fb916118749",
   "metadata": {},
   "outputs": [],
   "source": []
  },
  {
   "cell_type": "code",
   "execution_count": null,
   "id": "37ba1ac3-a53b-4a11-834a-dc686784f3c5",
   "metadata": {},
   "outputs": [],
   "source": []
  },
  {
   "cell_type": "code",
   "execution_count": null,
   "id": "94826c23-9553-45f7-8778-6bd3dc5eab81",
   "metadata": {},
   "outputs": [],
   "source": []
  },
  {
   "cell_type": "code",
   "execution_count": null,
   "id": "b79da673-3820-4a51-ac25-5dff813a7c07",
   "metadata": {},
   "outputs": [],
   "source": []
  },
  {
   "cell_type": "code",
   "execution_count": null,
   "id": "688fb760-a9eb-445f-8414-114c62572311",
   "metadata": {},
   "outputs": [],
   "source": []
  },
  {
   "cell_type": "code",
   "execution_count": null,
   "id": "465d55ee-b5f9-4112-962c-c2bba32d1093",
   "metadata": {},
   "outputs": [],
   "source": []
  },
  {
   "cell_type": "code",
   "execution_count": null,
   "id": "f2f715be-8da5-4f29-b121-a6de4facbc9a",
   "metadata": {},
   "outputs": [],
   "source": []
  },
  {
   "cell_type": "code",
   "execution_count": null,
   "id": "3095c352-4cf9-44df-9071-3ce41fd7bc51",
   "metadata": {},
   "outputs": [],
   "source": []
  }
 ],
 "metadata": {
  "kernelspec": {
   "display_name": "Python 3 (ipykernel)",
   "language": "python",
   "name": "python3"
  },
  "language_info": {
   "codemirror_mode": {
    "name": "ipython",
    "version": 3
   },
   "file_extension": ".py",
   "mimetype": "text/x-python",
   "name": "python",
   "nbconvert_exporter": "python",
   "pygments_lexer": "ipython3",
   "version": "3.12.4"
  }
 },
 "nbformat": 4,
 "nbformat_minor": 5
}
